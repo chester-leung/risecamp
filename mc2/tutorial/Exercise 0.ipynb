{
 "cells": [
  {
   "cell_type": "markdown",
   "metadata": {},
   "source": [
    "# MC<sup>2</sup> : Multiparty Collaboration & Coopetition\n",
    "MC<sup>2</sup> contains a series of subprojects in the RISE Lab, all pertaining to multiparty collaboration and coopetition. The particular project we'll be giving a tutorial on today is Federated XGBoost, an extension of the existing gradient boosting machine learning framework that enables use of the framework in the federated setting. This is particularly important for use cases that focus on low bandwidth training across multiple parties.\n",
    "\n",
    "You can find the codebase here: https://github.com/mc2-project/mc2"
   ]
  },
  {
   "cell_type": "markdown",
   "metadata": {},
   "source": [
    "## Dataset\n",
    "### Allstate Claim Prediction Dataset\n",
    "This dataset is used in the original XGBoost paper and is taken from a Kaggle competition.\n",
    "The goal of the competition is to predict insurance claim payments given multiple datapoints about the insured vehicle.\n",
    "Further information can be found [here](https://www.kaggle.com/c/ClaimPredictionChallenge).\n",
    "We propose a usecase where some insurance company has multiple departments specializing in different makes of cars, and these departments are unable to share data between them.\n",
    "As such, a sample of the original Allstate Claim Prediction dataset is partitioned here into four groups, each of which represents one of these departments.\n",
    "In the following exercises, you will represent one such department, and your task will be to use the information provided to predict whether new insurance claims will be greater than 0, or equal to 0. (binary classification)\n",
    "You will then collaborate with the other departments, using our federated distributed XGBoost to collectively train a model without revealing all of your departments' data to one another."
   ]
  },
  {
   "cell_type": "markdown",
   "metadata": {},
   "source": [
    "## Setup"
   ]
  },
  {
   "cell_type": "markdown",
   "metadata": {},
   "source": [
    "To simulate a federation, please get into groups of 3 or 4. Choose one member of the team to act as the trusted central server. Assign all other members of the federation a party ID from 1 to 3.\n",
    "\n",
    "Create a Slack channel or group message and add all members of your federation."
   ]
  },
  {
   "cell_type": "markdown",
   "metadata": {},
   "source": [
    "Obtain your IP address and your SSH public key. Have these on hand as we'll need them for latter parts of the tutorial."
   ]
  },
  {
   "cell_type": "code",
   "execution_count": null,
   "metadata": {},
   "outputs": [],
   "source": [
    "# External IP\n",
    "!dig +short myip.opendns.com @resolver1.opendns.com"
   ]
  },
  {
   "cell_type": "code",
   "execution_count": null,
   "metadata": {
    "scrolled": true
   },
   "outputs": [],
   "source": [
    "# SSH public key\n",
    "!cat ~/.ssh/id_rsa.pub"
   ]
  },
  {
   "cell_type": "markdown",
   "metadata": {},
   "source": [
    "Add your username, IP address, and public key to the lookup service."
   ]
  },
  {
   "cell_type": "code",
   "execution_count": 33,
   "metadata": {},
   "outputs": [],
   "source": [
    "import importlib\n",
    "importlib.reload(Federation)\n",
    "\n",
    "import Federation\n",
    "\n",
    "pki = Federation.PKI()\n",
    "pki.upload_key(\"rishabh\", \"127.0.0.1\")"
   ]
  },
  {
   "cell_type": "markdown",
   "metadata": {},
   "source": [
    "Retrieve user information from the lookup service"
   ]
  },
  {
   "cell_type": "code",
   "execution_count": 40,
   "metadata": {},
   "outputs": [
    {
     "name": "stdout",
     "output_type": "stream",
     "text": [
      "No such user found\n",
      "None None\n"
     ]
    }
   ],
   "source": [
    "import importlib\n",
    "importlib.reload(Federation)\n",
    "\n",
    "IP, key = pki.lookup(\"wenting\")\n",
    "print (IP, key)"
   ]
  },
  {
   "cell_type": "markdown",
   "metadata": {},
   "source": [
    "Create a federation (you will be the master)"
   ]
  },
  {
   "cell_type": "code",
   "execution_count": 32,
   "metadata": {},
   "outputs": [
    {
     "name": "stdout",
     "output_type": "stream",
     "text": [
      "unhashable type: 'dict'\n"
     ]
    }
   ],
   "source": [
    "import Federation\n",
    "import importlib\n",
    "importlib.reload(Federation)\n",
    "\n",
    "fed = Federation.Federation()\n",
    "members = [\"alice\", \"bob\", \"chris\"]\n",
    "fed.create_federation(\"mike\", members)"
   ]
  },
  {
   "cell_type": "markdown",
   "metadata": {},
   "source": [
    "Join a federation as a member"
   ]
  },
  {
   "cell_type": "code",
   "execution_count": 17,
   "metadata": {},
   "outputs": [],
   "source": [
    "import Federation\n",
    "import importlib\n",
    "importlib.reload(Federation)\n",
    "\n",
    "fed = Federation.Federation()\n",
    "fed.join_federation(\"bob\", \"mike\")"
   ]
  },
  {
   "cell_type": "markdown",
   "metadata": {},
   "source": [
    "Check if everyone has joined the federation"
   ]
  },
  {
   "cell_type": "code",
   "execution_count": 24,
   "metadata": {},
   "outputs": [
    {
     "name": "stdout",
     "output_type": "stream",
     "text": [
      "['alice', 'bob']\n",
      "True\n"
     ]
    }
   ],
   "source": [
    "import Federation\n",
    "import importlib\n",
    "importlib.reload(Federation)\n",
    "\n",
    "fed = Federation.Federation()\n",
    "check = fed.check_federation(\"mike\")\n",
    "print(check)"
   ]
  },
  {
   "cell_type": "markdown",
   "metadata": {},
   "source": [
    "If you're the central server, add all parties' SSH public keys to your authorized_keys file. Otherwise, add the central server's SSH public key to your authorized_keys file"
   ]
  },
  {
   "cell_type": "code",
   "execution_count": null,
   "metadata": {},
   "outputs": [],
   "source": [
    "# TODO: add the usernames of all members of your federation to the members list.\n",
    "members = []\n",
    "with open(\"~/.ssh/authorized_keys\", \"a\") as authorized_keys:\n",
    "    for member in members:\n",
    "        IP, key = pki.lookup(member)\n",
    "        authorized_keys.write(key + \"\\n\")"
   ]
  },
  {
   "cell_type": "markdown",
   "metadata": {},
   "source": [
    "## Table of Contents\n",
    "Now that we've finished with setup, it's time to start the exercises. This tutorial consists of three exercises:\n",
    "1. [Single Party XGBoost on Data Subset](Exercise 1.ipynb)\n",
    "2. [Multiparty XGBoost with Centralized Training](Exercise 2.ipynb)\n",
    "3. [Multiparty XGBoost with Federated Training](Exercise 3.ipynb)\n",
    "\n",
    "Let's start with [Exercise 1](Exercise 1.ipynb)."
   ]
  },
  {
   "cell_type": "code",
   "execution_count": null,
   "metadata": {},
   "outputs": [],
   "source": []
  }
 ],
 "metadata": {
  "kernelspec": {
   "display_name": "Python 3",
   "language": "python",
   "name": "python3"
  },
  "language_info": {
   "codemirror_mode": {
    "name": "ipython",
    "version": 3
   },
   "file_extension": ".py",
   "mimetype": "text/x-python",
   "name": "python",
   "nbconvert_exporter": "python",
   "pygments_lexer": "ipython3",
   "version": "3.6.8"
  }
 },
 "nbformat": 4,
 "nbformat_minor": 2
}
