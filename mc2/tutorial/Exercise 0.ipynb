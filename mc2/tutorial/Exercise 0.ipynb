{
 "cells": [
  {
   "cell_type": "markdown",
   "metadata": {},
   "source": [
    "# MC<sup>2</sup> : Multiparty Collaboration & Coopetition\n",
    "MC<sup>2</sup> contains a series of subprojects in the RISE Lab, all pertaining to multiparty collaboration and coopetition. The particular project we'll be giving a tutorial on today is Federated XGBoost, an extension of the existing gradient boosting machine learning framework that enables use of the framework in the federated setting. This is particularly important for use cases that focus on low bandwidth training across multiple parties.\n",
    "\n",
    "You can find the codebase here: https://github.com/mc2-project/mc2"
   ]
  },
  {
   "cell_type": "markdown",
   "metadata": {},
   "source": [
    "## Dataset\n",
    "### Allstate Claim Prediction Dataset\n",
    "This dataset is used in the original XGBoost paper and is taken from a Kaggle competition.\n",
    "The goal of the competition is to predict insurance claim payments given multiple datapoints about the insured vehicle.\n",
    "Further information can be found [here](https://www.kaggle.com/c/ClaimPredictionChallenge).\n",
    "We propose a usecase where some insurance company has multiple departments specializing in different makes of cars, and these departments are unable to share data between them.\n",
    "As such, a sample of the original Allstate Claim Prediction dataset is partitioned here into four groups, each of which represents one of these departments.\n",
    "In the following exercises, you will represent one such department, and your task will be to use the information provided to predict whether new insurance claims will be greater than 0, or equal to 0. (binary classification)\n",
    "You will then collaborate with the other departments, using our federated distributed XGBoost to collectively train a model without revealing all of your departments' data to one another."
   ]
  },
  {
   "cell_type": "markdown",
   "metadata": {},
   "source": [
    "## Setup"
   ]
  },
  {
   "cell_type": "markdown",
   "metadata": {},
   "source": [
    "To simulate a federation, please get into groups of 3 or 4. Choose one member of the team to act as the centralized aggregator. Assign all other members of the federation a party ID from 1 to 3.\n",
    "\n",
    "Create a Slack channel or group message and add all members of your federation."
   ]
  },
  {
   "cell_type": "markdown",
   "metadata": {},
   "source": [
    "### 1. Public key infrastructure (PKI) ###\n",
    "\n",
    "We have created a mock PKI service for the purpose of this tutorial. In this section of the tutorial, you will be using the PKI to upload your public key as well as obtaining the public key of the other members of the federation. \n",
    "\n",
    "To use our mock service, you can use the following API:\n",
    "\n",
    "```python \n",
    "class PKI:\n",
    "     # No input arguments; connects to the PKI service\n",
    "    def __init__(self):\n",
    "        \n",
    "    # uploads the user's IP and public key to the PKI service; returns None\n",
    "    def upload(self, username, ip_address, public_key):\n",
    "        \n",
    "    # Retrieves the IP and public key for user <username>\n",
    "    def lookup(self, username):\n",
    "        \n",
    "    # Retrieves the public key for user <username> and saves it\n",
    "    def save_key(self, username):\n",
    "        \n",
    "```"
   ]
  },
  {
   "cell_type": "markdown",
   "metadata": {},
   "source": [
    "**Exercise**: add your username, IP address, and public key to the lookup service."
   ]
  },
  {
   "cell_type": "code",
   "execution_count": null,
   "metadata": {},
   "outputs": [],
   "source": [
    "from Utils import PKI\n",
    "from requests import get\n",
    "from os.path import expanduser\n",
    "\n",
    "# TODO: Add your username \n",
    "username = \"rishabh\"\n",
    "\n",
    "# Get your public IP address\n",
    "IP = get('https://api.ipify.org').text\n",
    "\n",
    "# Get your public key\n",
    "pubkey = open(expanduser(\"~\") + '/.ssh/id_rsa.pub').read().strip()\n",
    "\n",
    "# Connect to the PKI service\n",
    "pki = PKI()\n",
    "\n",
    "# Upload your IP address and public key\n",
    "pki.upload(username, IP, pubkey)"
   ]
  },
  {
   "cell_type": "markdown",
   "metadata": {},
   "source": [
    "**Exercise**: retrieve user information from the lookup service"
   ]
  },
  {
   "cell_type": "code",
   "execution_count": null,
   "metadata": {},
   "outputs": [],
   "source": [
    "IP, key = pki.lookup(\"wenting\")\n",
    "print (IP, key)"
   ]
  },
  {
   "cell_type": "markdown",
   "metadata": {},
   "source": [
    "### 2. Federation ###\n",
    "\n",
    "You will now use the Federation API to create and join a federation of participants. One participant will act as the centralized aggregator. Before proceeding, confer with the other members of your federation and elect the aggregator.\n",
    "\n",
    "The Federation API is as follows.\n",
    "\n",
    "```python \n",
    "class Federation:\n",
    "     # Initialize a Federation instance using your username\n",
    "    def __init__(self, username):\n",
    "\n",
    "    # Creates a federation with self.username as the aggregator; \n",
    "    # <members> is a list of usernames who may participate in the federation\n",
    "    def create_federation(self, members):\n",
    "\n",
    "    # Join the federation created by user <aggregator_username> as a participant\n",
    "    def join_federation(self, aggregator_username):\n",
    "        \n",
    "    # Check to see if all the members of the federation have joined\n",
    "    def check_federation(self, aggregator_username):\n",
    "```\n",
    "\n"
   ]
  },
  {
   "cell_type": "markdown",
   "metadata": {},
   "source": [
    "**Exercise**: If you've been elected the central aggregator, create a federation.\n",
    "Otherwise, join the federation created by the aggregator."
   ]
  },
  {
   "cell_type": "code",
   "execution_count": null,
   "metadata": {},
   "outputs": [],
   "source": [
    "from Utils import Federation\n",
    "\n",
    "# Initialize a federation\n",
    "fed = Federation(username)\n",
    "\n",
    "# TODO: Add the usernames of the federation members to the list\n",
    "members = [\"alice\", \"bob\", \"chris\"]\n",
    "\n",
    "# Create a federation \n",
    "fed.create_federation(members)"
   ]
  },
  {
   "cell_type": "markdown",
   "metadata": {},
   "source": [
    "Join a federation as a member. Only do this step if you're not the central server."
   ]
  },
  {
   "cell_type": "code",
   "execution_count": null,
   "metadata": {},
   "outputs": [],
   "source": [
    "from Utils import Federation\n",
    "\n",
    "# Initialize a federation\n",
    "fed = Federation(username)\n",
    "\n",
    "# TODO: Add the username of the central aggregator\n",
    "aggregator = \"rishabh\"\n",
    "\n",
    "fed.join_federation(aggregator)"
   ]
  },
  {
   "cell_type": "markdown",
   "metadata": {},
   "source": [
    "Check if everyone has joined the federation"
   ]
  },
  {
   "cell_type": "code",
   "execution_count": null,
   "metadata": {},
   "outputs": [],
   "source": [
    "fed.check_federation(aggregator)"
   ]
  },
  {
   "cell_type": "markdown",
   "metadata": {},
   "source": [
    "**Exercise**: If you're the central server, save the public keys of all the federation members. Otherwise, save the aggregator's public key. Use the PKI API."
   ]
  },
  {
   "cell_type": "code",
   "execution_count": null,
   "metadata": {},
   "outputs": [],
   "source": [
    "# TODO: If you're the aggregator, add the usernames of all members of your federation to the members list\n",
    "members = [\"rishabh\"]\n",
    "\n",
    "# TODO: If you're the worker, add the usernames of the aggregan to the members list\n",
    "# members = [aggregator]\n",
    "\n",
    "# Save the keys of the members\n",
    "for member in members:\n",
    "    pki.save_key(member)"
   ]
  },
  {
   "cell_type": "markdown",
   "metadata": {},
   "source": [
    "## Table of Contents\n",
    "Now that we've finished with setup, it's time to start the exercises. This tutorial consists of three exercises:\n",
    "1. [Single Party XGBoost on Data Subset](Exercise 1.ipynb)\n",
    "2. [Multiparty XGBoost with Centralized Training](Exercise 2.ipynb)\n",
    "3. [Multiparty XGBoost with Federated Training](Exercise 3.ipynb)\n",
    "\n",
    "Let's start with [Exercise 1](Exercise 1.ipynb)."
   ]
  },
  {
   "cell_type": "code",
   "execution_count": null,
   "metadata": {},
   "outputs": [],
   "source": []
  }
 ],
 "metadata": {
  "kernelspec": {
   "display_name": "Python 3",
   "language": "python",
   "name": "python3"
  },
  "language_info": {
   "codemirror_mode": {
    "name": "ipython",
    "version": 2
   },
   "file_extension": ".py",
   "mimetype": "text/x-python",
   "name": "python",
   "nbconvert_exporter": "python",
   "pygments_lexer": "ipython2",
   "version": "2.7.16"
  }
 },
 "nbformat": 4,
 "nbformat_minor": 2
}
