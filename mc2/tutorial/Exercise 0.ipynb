{
 "cells": [
  {
   "cell_type": "markdown",
   "metadata": {},
   "source": [
    "# MC<sup>2</sup> : Multiparty Collaboration & Coopetition\n",
    "\n",
    "MC<sup>2</sup> contains a series of subprojects in the RISE Lab, all pertaining to <strong><u>M</u></strong>ultiparty <strong><u>C</u></strong>ollaboration and <strong><u>C</u></strong>oopetition. \n",
    "The particular project we'll be demonstrating today is Federated XGBoost, an extension of the <a href=\"https://xgboost.readthedocs.io/en/latest/\">XGBoost</a> framework to the federated setting. \n",
    "\n",
    "The federated setting allows multiple parties train a model over their collective data with the help of a centralized *aggregator* server. Instead of sending their entire data to the aggregator, the parties only send summary statistics. This provides two benefits: (a) it conserves bandwidth, and (b) it limits the amount of information leaked to other parties in the federation.\n",
    "\n",
    "You can find the codebase for the MC<sup>2</sup> project here: https://github.com/mc2-project/mc2"
   ]
  },
  {
   "cell_type": "markdown",
   "metadata": {},
   "source": [
    "## Dataset\n",
    "### Allstate Claim Prediction Dataset\n",
    "This dataset is used in the original XGBoost paper and is taken from a Kaggle competition.\n",
    "The goal of the competition is to predict insurance claim payments given multiple datapoints about the insured vehicle.\n",
    "Further information can be found [here](https://www.kaggle.com/c/ClaimPredictionChallenge).\n",
    "We propose a usecase where some insurance company has multiple departments specializing in different makes of cars, and these departments are unable to share data between them.\n",
    "As such, a sample of the original Allstate Claim Prediction dataset is partitioned here into four groups, each of which represents one of these departments.\n",
    "In the following exercises, you will represent one such department, and your task will be to use the information provided to predict whether new insurance claims will be greater than 0, or equal to 0. (binary classification)\n",
    "You will then collaborate with the other departments, using our federated distributed XGBoost to collectively train a model without revealing all of your departments' data to one another."
   ]
  },
  {
   "cell_type": "markdown",
   "metadata": {},
   "source": [
    "## Setup"
   ]
  },
  {
   "cell_type": "markdown",
   "metadata": {},
   "source": [
    "During the setup phase, the parties first form a federation.\n",
    "\n",
    "To simulate a federation, please get into groups of 3 or 4. Choose one member of the team to act as the centralized aggregator. \n",
    "<!--\n",
    "Assign all other members of the federation a party ID from 1 to 3.\n",
    "Create a Slack channel or group message and add all members of your federation.\n",
    "-->"
   ]
  },
  {
   "cell_type": "markdown",
   "metadata": {},
   "source": [
    "### 1. Public key infrastructure (PKI) ###\n",
    "\n",
    "We have created a mock PKI service for the purpose of this tutorial. In this section of the tutorial, you will upload your public keys to the PKI service, and obtain the public key of the other members of the federation. \n",
    "\n",
    "To use our mock service, you can use the following API:\n",
    "\n",
    "```python \n",
    "class PKI:\n",
    "     # No input arguments; connects to the PKI service\n",
    "    def __init__(self):\n",
    "        \n",
    "    # uploads the user's IP and public key to the PKI service; returns None\n",
    "    def upload(self, username, ip_address, public_key):\n",
    "        \n",
    "    # Retrieves the IP and public key for user <username>\n",
    "    def lookup(self, username):\n",
    "        \n",
    "    # Retrieves the public key for user <username> and saves it\n",
    "    def save_key(self, username):\n",
    "        \n",
    "```"
   ]
  },
  {
   "cell_type": "markdown",
   "metadata": {},
   "source": [
    "**Exercise**: Upload your username, IP address, and public key to the lookup service. Verify that your information has been uploaded using `lookup()`."
   ]
  },
  {
   "cell_type": "code",
   "execution_count": null,
   "metadata": {},
   "outputs": [],
   "source": [
    "from Utils import PKI\n",
    "from requests import get\n",
    "from os.path import expanduser\n",
    "\n",
    "# TODO: Add your username \n",
    "# username = \"\"\n",
    "\n",
    "# Get your public IP address\n",
    "IP = get('https://api.ipify.org').text\n",
    "\n",
    "# Get your public key\n",
    "pubkey = open(expanduser(\"~\") + '/.ssh/id_rsa.pub').read().strip()\n",
    "\n",
    "# TODO: Connect to the PKI service and upload your IP address and public key\n",
    "# ...\n",
    "\n",
    "# TODO: Verify that your information has been uploaded by using the lookup() API \n",
    "# ..."
   ]
  },
  {
   "cell_type": "markdown",
   "metadata": {},
   "source": [
    "### 2. Federation ###\n",
    "\n",
    "You will now use the Federation API to create and join a federation of participants. One participant will act as the centralized aggregator for the purposes of this tutorial. Before proceeding, confer with the other members of your federation and elect the aggregator.\n",
    "\n",
    "The federation API for the aggregator is as follows.\n",
    "\n",
    "```python \n",
    "class FederationAggregator:\n",
    "     # Initialize a Federation instance using your username\n",
    "    def __init__(self, username):\n",
    "\n",
    "    # Creates a federation with self.username as the aggregator; \n",
    "    # <members> is a list of usernames who may participate in the federation\n",
    "    def create_federation(self, members):\n",
    "\n",
    "    # Check to see if all the members of the federation have joined\n",
    "    def check_federation(self):\n",
    "```\n",
    "\n",
    "\n",
    "The federation API for a participant is as follows.\n",
    "\n",
    "```python \n",
    "class FederationMember:\n",
    "     # Initialize a Federation instance using your username\n",
    "    def __init__(self, username):\n",
    "\n",
    "    # Join the federation created by user <aggregator_username> as a participant\n",
    "    def join_federation(self, aggregator_username):\n",
    "        \n",
    "    # Check to see if all the members of the federation have joined\n",
    "    def check_federation(self):\n",
    "```\n",
    "\n"
   ]
  },
  {
   "cell_type": "markdown",
   "metadata": {},
   "source": [
    "**Exercise**: If you've been elected the central aggregator, create a federation.\n",
    "Otherwise, join the federation created by the aggregator."
   ]
  },
  {
   "cell_type": "code",
   "execution_count": null,
   "metadata": {},
   "outputs": [],
   "source": [
    "from Utils import FederationAggregator\n",
    "\n",
    "# Initialize a federation\n",
    "fed = FederationAggregator(username)\n",
    "\n",
    "# TODO: Add the usernames of the federation members to the list\n",
    "# members = [\"\"]\n",
    "\n",
    "# TODO: Create a federation \n",
    "# ..."
   ]
  },
  {
   "cell_type": "markdown",
   "metadata": {},
   "source": [
    "Join a federation as a member. Only do this step if you're not the central server."
   ]
  },
  {
   "cell_type": "code",
   "execution_count": 1,
   "metadata": {},
   "outputs": [],
   "source": [
    "from Utils import FederationMember\n",
    "\n",
    "# Initialize a federation\n",
    "fed = FederationMember(username)\n",
    "\n",
    "# TODO: Add the username of the central aggregator\n",
    "# aggregator = \"\"\n",
    "\n",
    "# TODO: Join the federation created by the aggregator\n",
    "# ..."
   ]
  },
  {
   "cell_type": "markdown",
   "metadata": {},
   "source": [
    "Check if everyone has joined the federation"
   ]
  },
  {
   "cell_type": "code",
   "execution_count": 4,
   "metadata": {},
   "outputs": [
    {
     "name": "stdout",
     "output_type": "stream",
     "text": [
      "No federation to check. Please create or join a federation first.\n"
     ]
    }
   ],
   "source": [
    "fed.check_federation()"
   ]
  },
  {
   "cell_type": "markdown",
   "metadata": {},
   "source": [
    "**Exercise**: If you're the central server, save the public keys of all the federation members. Otherwise, save the aggregator's public key. Use the PKI API."
   ]
  },
  {
   "cell_type": "code",
   "execution_count": null,
   "metadata": {},
   "outputs": [],
   "source": [
    "# TODO: If you're the aggregator, add the usernames of all members of your federation to the members list\n",
    "# members = [\"\"]\n",
    "\n",
    "# TODO: If you're the worker, add the username of the aggregator to the members list\n",
    "# members = [aggregator]\n",
    "\n",
    "# TODO: Save the keys of all users in the <members> list\n",
    "# ..."
   ]
  },
  {
   "cell_type": "markdown",
   "metadata": {},
   "source": [
    "## Table of Contents\n",
    "Now that we've finished with setup, it's time to start the exercises. This tutorial consists of three exercises:\n",
    "1. [Single Party XGBoost on Data Subset](Exercise 1.ipynb)\n",
    "2. [Multiparty XGBoost with Centralized Training](Exercise 2.ipynb)\n",
    "3. [Multiparty XGBoost with Federated Training](Exercise 3.ipynb)\n",
    "\n",
    "Let's start with [Exercise 1](Exercise 1.ipynb)."
   ]
  },
  {
   "cell_type": "code",
   "execution_count": null,
   "metadata": {},
   "outputs": [],
   "source": []
  }
 ],
 "metadata": {
  "kernelspec": {
   "display_name": "Python 3",
   "language": "python",
   "name": "python3"
  },
  "language_info": {
   "codemirror_mode": {
    "name": "ipython",
    "version": 2
   },
   "file_extension": ".py",
   "mimetype": "text/x-python",
   "name": "python",
   "nbconvert_exporter": "python",
   "pygments_lexer": "ipython2",
   "version": "2.7.16"
  }
 },
 "nbformat": 4,
 "nbformat_minor": 2
}
