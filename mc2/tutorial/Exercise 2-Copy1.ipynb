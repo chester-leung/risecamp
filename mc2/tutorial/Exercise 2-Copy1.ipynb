{
 "cells": [
  {
   "cell_type": "markdown",
   "metadata": {},
   "source": [
    "## Multiparty XGBoost with Centralized Training\n",
    "In this exercise, we'll demonstrate a workflow in which each party has its own data and sends a copy of its data to the central server. Therefore, all the training data is sent over the network to the central server, who collects it and locally trains a model on all the data. The central server will then broadcast the trained model back to the parties, who will load the model and test it on their local test datasets. \n",
    "\n",
    "![title](img/exercise2.png)\n",
    "\n",
    "\n",
    "We will also measure the number of bytes sent over the network to show the large bandwidth needed for this workflow. \n",
    "This shows the benefits of using as much data as possible to make the model more robust."
   ]
  },
  {
   "cell_type": "markdown",
   "metadata": {},
   "source": [
    "### Data Transfer\n",
    "Import the necessary libraries"
   ]
  },
  {
   "cell_type": "code",
   "execution_count": null,
   "metadata": {},
   "outputs": [],
   "source": [
    "import xgboost as xgb\n",
    "import numpy as np\n",
    "import pandas as pd\n",
    "from sklearn.metrics import accuracy_score\n",
    "from Utils import scp"
   ]
  },
  {
   "cell_type": "markdown",
   "metadata": {},
   "source": [
    "Ensure that you've properly set up SSH credentials in Exercise 0. `scp` the training data you used in Exercise 1 to the aggregator. Note how many bytes are transferred over the network.\n",
    "\n",
    "* Training data for the hospital dataset is at `/data/hospital/hospital_training_{party_id}.csv`\n",
    "* Training data for the insurance dataset is at `/data/insurance/insurance_training_{party_id}.csv`"
   ]
  },
  {
   "cell_type": "code",
   "execution_count": null,
   "metadata": {},
   "outputs": [],
   "source": [
    "# Make sure you use the training data you used in exercise 1\n",
    "training_data = \"/path/to/training_data\" # TODO: fill in the path to the training data\n",
    "dest_ip = \"aggregator_ip\" # TODO: fill in the IP of the aggregator\n",
    "dest_dir = \"~/shared_data\"\n",
    "scp(training_data, dest_ip, dest_dir)"
   ]
  },
  {
   "cell_type": "markdown",
   "metadata": {},
   "source": [
    "### Aggregate the Received Data\n",
    "If you're the aggregator, load all the data that has been sent to your machine. For example, if three other parties sent you data, make 4 calls to `read_csv()`: one for your own data and three for the other parties' data.\n",
    "\n",
    "**Do this only if you're the central server. If you're not the central server, time to take a break**."
   ]
  },
  {
   "cell_type": "code",
   "execution_count": null,
   "metadata": {},
   "outputs": [],
   "source": [
    "# TODO: load in all the training data that the parties have sent\n",
    "# The data should've been sent to the shared_data directory\n",
    "\n",
    "header = # TODO: 0 if using insurance dataset, None if using hospital dataset\n",
    "\n",
    "# TODO: modify the path to shared training data. The data will be in the `shared_data` directory\n",
    "# e.g., shared_data/hospital_training_1.csv\n",
    "aggregator_training_data = pd.read_csv('path/to/shared/data.csv', sep=\",\", header=header)\n",
    "p2_training_data = pd.read_csv('path/to/shared/data.csv', sep=\",\", header=header)"
   ]
  },
  {
   "cell_type": "markdown",
   "metadata": {},
   "source": [
    "Concatenate all the data in preparation for training"
   ]
  },
  {
   "cell_type": "code",
   "execution_count": null,
   "metadata": {},
   "outputs": [],
   "source": [
    "aggregated_training_data = pd.concat([]) # TODO: add training data to the argument passed to pd.concat()\n",
    "aggregated_training_data.shape"
   ]
  },
  {
   "cell_type": "code",
   "execution_count": null,
   "metadata": {},
   "outputs": [],
   "source": [
    "# TODO: Split the aggregated training data into features and labels"
   ]
  },
  {
   "cell_type": "markdown",
   "metadata": {},
   "source": [
    "### Train a Model"
   ]
  },
  {
   "cell_type": "code",
   "execution_count": null,
   "metadata": {},
   "outputs": [],
   "source": [
    "# TODO: fit a model to the aggregated training data\n",
    "multiparty_model = xgb.XGBClassifier()"
   ]
  },
  {
   "cell_type": "markdown",
   "metadata": {},
   "source": [
    "### Broadcast the Trained Model\n",
    "Save the trained model and send it to all parties in the federation"
   ]
  },
  {
   "cell_type": "code",
   "execution_count": null,
   "metadata": {},
   "outputs": [],
   "source": [
    "multiparty_model.save_model(\"ex2_model.model\")"
   ]
  },
  {
   "cell_type": "code",
   "execution_count": null,
   "metadata": {},
   "outputs": [],
   "source": [
    "# If you're the central server, run this cell as many times as needed to send the saved model\n",
    "# to all parties in the federation\n",
    "model = \"ex2_model.model\"\n",
    "dest_ip = \"party_ip\"\n",
    "dest_dir = \"~\"\n",
    "scp(model, dest_ip, dest_dir)"
   ]
  },
  {
   "cell_type": "markdown",
   "metadata": {},
   "source": [
    "If you're not the central server, your break is over. The aggregator should have sent the centrally trained model to you."
   ]
  },
  {
   "cell_type": "code",
   "execution_count": null,
   "metadata": {},
   "outputs": [],
   "source": [
    "# If you're not the central server, ensure that you received the model and load it in\n",
    "multiparty_model = xgb.XGBClassifier()\n",
    "multiparty_model.load_model(\"ex2_model.model\")"
   ]
  },
  {
   "cell_type": "markdown",
   "metadata": {},
   "source": [
    "### Test Data Preprocessing"
   ]
  },
  {
   "cell_type": "code",
   "execution_count": null,
   "metadata": {},
   "outputs": [],
   "source": [
    "# TODO: load in your local test data and preprocess it to split it into features and labels"
   ]
  },
  {
   "cell_type": "code",
   "execution_count": null,
   "metadata": {},
   "outputs": [],
   "source": [
    "# TODO: evaluate the model on your local test data\n",
    "\n",
    "arg1, arg2 = # TODO: set arg1 to the test features, arg2 to the test labels\n",
    "preds = model.predict(arg1)\n",
    "print(accuracy_score(arg2, preds))"
   ]
  },
  {
   "cell_type": "markdown",
   "metadata": {},
   "source": [
    "Discuss the results with other members of your federation. How did the centrally trained model perform on your local test data compared with the locally trained model? Did adding more data help?\n",
    "\n",
    "Once you're ready, please move to [Exercise 3](Exercise 3.ipynb)."
   ]
  },
  {
   "cell_type": "code",
   "execution_count": null,
   "metadata": {},
   "outputs": [],
   "source": []
  }
 ],
 "metadata": {
  "kernelspec": {
   "display_name": "Python 3",
   "language": "python",
   "name": "python3"
  },
  "language_info": {
   "codemirror_mode": {
    "name": "ipython",
    "version": 3
   },
   "file_extension": ".py",
   "mimetype": "text/x-python",
   "name": "python",
   "nbconvert_exporter": "python",
   "pygments_lexer": "ipython3",
   "version": "3.6.8"
  }
 },
 "nbformat": 4,
 "nbformat_minor": 2
}
