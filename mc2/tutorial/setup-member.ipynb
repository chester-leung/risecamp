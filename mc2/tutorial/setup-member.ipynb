{
 "cells": [
  {
   "cell_type": "markdown",
   "metadata": {},
   "source": [
    "## Setup\n",
    "During the setup phase, the parties first form a federation."
   ]
  },
  {
   "cell_type": "markdown",
   "metadata": {},
   "source": [
    "### 1. Public key infrastructure (PKI)"
   ]
  },
  {
   "cell_type": "markdown",
   "metadata": {},
   "source": [
    "We have created a mock PKI service for the purpose of this tutorial. In this section of the tutorial, you will upload your public keys to the PKI service, and obtain the public key of the other members of the federation.\n",
    "\n",
    "To use our mock service, you can use the following API:\n",
    "```python\n",
    "class PKI:\n",
    "     # No input arguments; connects to the PKI service\n",
    "    def __init__(self):\n",
    "\n",
    "    # uploads the user's IP and public key to the PKI service; returns None\n",
    "    def upload(self, username, ip_address, public_key):\n",
    "\n",
    "    # Retrieves the IP and public key for user <username>\n",
    "    def lookup(self, username):\n",
    "\n",
    "    # Retrieves the public key for user <username> and saves it\n",
    "    def save_key(self, username):\n",
    "```"
   ]
  },
  {
   "cell_type": "markdown",
   "metadata": {},
   "source": [
    "**Exercise**: Upload your username (i.e., the email you used to log into the tutorial portal), IP address, and public key to the lookup service. Verify that your information has been uploaded using lookup()."
   ]
  },
  {
   "cell_type": "code",
   "execution_count": null,
   "metadata": {},
   "outputs": [],
   "source": [
    "from Utils import PKI\n",
    "from requests import get\n",
    "from os.path import expanduser\n",
    "\n",
    "# TODO: Add your username \n",
    "# username = \"\"\n",
    "\n",
    "# Get your public IP address\n",
    "IP = get('https://api.ipify.org').text\n",
    "\n",
    "# Get your public key\n",
    "pubkey = open(expanduser(\"~\") + '/.ssh/id_rsa.pub').read().strip()\n",
    "\n",
    "# TODO: Connect to the PKI service and upload your IP address and public key\n",
    "# ...\n",
    "\n",
    "# TODO: Verify that your information has been uploaded by using the lookup() API \n",
    "# ..."
   ]
  },
  {
   "cell_type": "markdown",
   "metadata": {},
   "source": [
    "### Join a Federation\n",
    "Join a federation as a member. Your federation aggregator should've created a federation; you'll need the username of your federation aggregator.\n",
    "\n",
    "The federation API for a participant is as follows:\n",
    "```python\n",
    "class FederationMember:\n",
    "     # Initialize a Federation instance using your username\n",
    "    def __init__(self, username):\n",
    "\n",
    "    # Join the federation created by user <aggregator_username> as a participant\n",
    "    def join_federation(self, aggregator_username):\n",
    "\n",
    "    # Check to see if all the members of the federation have joined\n",
    "    def check_federation(self):\n",
    "```\n",
    "\n",
    "**Exercise**: Join the federation created by your team's aggregator."
   ]
  },
  {
   "cell_type": "code",
   "execution_count": null,
   "metadata": {},
   "outputs": [],
   "source": [
    "from Utils import FederationMember\n",
    "\n",
    "# Initialize a federation\n",
    "fed = FederationMember(username)\n",
    "\n",
    "# TODO: Add the username of the central aggregator\n",
    "# aggregator = \"\"\n",
    "\n",
    "# TODO: Join the federation created by the aggregator\n",
    "# ..."
   ]
  },
  {
   "cell_type": "markdown",
   "metadata": {},
   "source": [
    "**Exercise**: After everyone has joined the federation, verify that everything worked and that all members officially joined the federation. "
   ]
  },
  {
   "cell_type": "code",
   "execution_count": null,
   "metadata": {},
   "outputs": [],
   "source": [
    "# TODO\n",
    "# ..."
   ]
  },
  {
   "cell_type": "markdown",
   "metadata": {},
   "source": [
    "Lastly, authorize the aggregator to communicate with you by saving the aggregator's public key using the PKI API."
   ]
  },
  {
   "cell_type": "code",
   "execution_count": null,
   "metadata": {},
   "outputs": [],
   "source": [
    "# TODO: Add the username of the aggregator\n",
    "# aggregator = \"\"\n",
    "\n",
    "# TODO: Save the aggregator's key\n",
    "# ..."
   ]
  },
  {
   "cell_type": "markdown",
   "metadata": {},
   "source": [
    "Once you've setup your federation, go on to [Exercise 1](./exercise1-member.ipynb)."
   ]
  },
  {
   "cell_type": "code",
   "execution_count": null,
   "metadata": {},
   "outputs": [],
   "source": []
  }
 ],
 "metadata": {
  "kernelspec": {
   "display_name": "Python 3",
   "language": "python",
   "name": "python3"
  },
  "language_info": {
   "codemirror_mode": {
    "name": "ipython",
    "version": 3
   },
   "file_extension": ".py",
   "mimetype": "text/x-python",
   "name": "python",
   "nbconvert_exporter": "python",
   "pygments_lexer": "ipython3",
   "version": "3.6.8"
  }
 },
 "nbformat": 4,
 "nbformat_minor": 2
}
