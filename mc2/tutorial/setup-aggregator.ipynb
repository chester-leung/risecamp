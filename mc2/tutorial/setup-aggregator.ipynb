{
 "cells": [
  {
   "cell_type": "markdown",
   "metadata": {},
   "source": [
    "## Setup"
   ]
  },
  {
   "cell_type": "markdown",
   "metadata": {},
   "source": [
    "### Register with the PKI"
   ]
  },
  {
   "cell_type": "markdown",
   "metadata": {},
   "source": [
    "We've built a mock Public Key Infrastructure lookup service to help streamline the sharing of IP addresses and SSH public keys among members in the federation. To use our mock service, you can use the following API:\n",
    "```python\n",
    "class PKI:\n",
    "     # No input arguments; connects to the PKI service\n",
    "    def __init__(self):\n",
    "\n",
    "    # uploads the user's IP and public key to the PKI service; returns None\n",
    "    def upload(self, username, ip_address, public_key):\n",
    "\n",
    "    # Retrieves the IP and public key for user <username>\n",
    "    def lookup(self, username):\n",
    "\n",
    "    # Retrieves the public key for user <username> and saves it\n",
    "    def save_key(self, username):\n",
    "```"
   ]
  },
  {
   "cell_type": "markdown",
   "metadata": {},
   "source": [
    "Register yourself with the email you used to log into the tutorial portal as your username. Add your username, IP address, and public key to the lookup service."
   ]
  },
  {
   "cell_type": "code",
   "execution_count": null,
   "metadata": {},
   "outputs": [],
   "source": [
    "from Utils import PKI\n",
    "from requests import get\n",
    "from os.path import expanduser\n",
    "\n",
    "# TODO: Add your username \n",
    "username = \"rishabh\"\n",
    "\n",
    "# Get your public IP address\n",
    "IP = get('https://api.ipify.org').text\n",
    "\n",
    "# Get your public key\n",
    "pubkey = open(expanduser(\"~\") + '/.ssh/id_rsa.pub').read().strip()\n",
    "\n",
    "# Connect to the PKI service\n",
    "pki = PKI()\n",
    "\n",
    "# Upload your IP address and public key\n",
    "pki.upload(username, IP, pubkey)"
   ]
  },
  {
   "cell_type": "markdown",
   "metadata": {},
   "source": [
    "### Lookup with the PKI\n",
    "We can also retrieve other user information from the lookup service. Try looking up a fellow member of your federation after they've registered!"
   ]
  },
  {
   "cell_type": "code",
   "execution_count": null,
   "metadata": {},
   "outputs": [],
   "source": [
    "IP, key = pki.lookup(\"wenting\")\n",
    "print (IP, key)"
   ]
  },
  {
   "cell_type": "markdown",
   "metadata": {},
   "source": [
    "### Create and Verify the Federation\n",
    "As the aggregator, you're in charge of creating the federation. Add the usernames of all members of your federation to the `members` list and run the following cell to do so.\n",
    "\n",
    "The Federation API is as follows:\n",
    "```python\n",
    "class Federation:\n",
    "     # Initialize a Federation instance using your username\n",
    "    def __init__(self, username):\n",
    "\n",
    "    # Creates a federation with self.username as the aggregator; \n",
    "    # <members> is a list of usernames who may participate in the federation\n",
    "    def create_federation(self, members):\n",
    "\n",
    "    # Join the federation created by user <aggregator_username> as a participant\n",
    "    def join_federation(self, aggregator_username):\n",
    "\n",
    "    # Check to see if all the members of the federation have joined\n",
    "    def check_federation(self, aggregator_username):\n",
    "```"
   ]
  },
  {
   "cell_type": "code",
   "execution_count": null,
   "metadata": {},
   "outputs": [],
   "source": [
    "from Utils import Federation\n",
    "\n",
    "aggregator = \"your_username\" # TODO: replace this with your username\n",
    "\n",
    "# Initialize a federation\n",
    "fed = Federation(aggregator)\n",
    "\n",
    "# TODO: Add the usernames of the federation members to the list\n",
    "members = [\"alice\", \"bob\", \"chris\"]\n",
    "\n",
    "# Create a federation \n",
    "fed.create_federation(members)"
   ]
  },
  {
   "cell_type": "markdown",
   "metadata": {},
   "source": [
    "Notify your federation members after creating the federation. Wait for them to join the federation. After everyone has done so, verify that everyone has officially joined the federation."
   ]
  },
  {
   "cell_type": "code",
   "execution_count": null,
   "metadata": {},
   "outputs": [],
   "source": [
    "fed.check_federation(aggregator)"
   ]
  },
  {
   "cell_type": "markdown",
   "metadata": {},
   "source": [
    "Once everyone has successfully joined your federation and the federation has been verified, authorize your fellow federation members to communicate with you."
   ]
  },
  {
   "cell_type": "code",
   "execution_count": null,
   "metadata": {},
   "outputs": [],
   "source": [
    "# TODO: If you're the aggregator, add the usernames of all members of your federation \n",
    "# to the members list. Make sure to include your own!\n",
    "members = [\"rishabh\"]\n",
    "\n",
    "# Save the keys of the members\n",
    "for member in members:\n",
    "    pki.save_key(member)"
   ]
  },
  {
   "cell_type": "markdown",
   "metadata": {},
   "source": [
    "Once you've setup your federation, go on to [Exercise 1](./exercise1-aggregator.ipynb)."
   ]
  },
  {
   "cell_type": "code",
   "execution_count": null,
   "metadata": {},
   "outputs": [],
   "source": []
  }
 ],
 "metadata": {
  "kernelspec": {
   "display_name": "Python 3",
   "language": "python",
   "name": "python3"
  },
  "language_info": {
   "codemirror_mode": {
    "name": "ipython",
    "version": 3
   },
   "file_extension": ".py",
   "mimetype": "text/x-python",
   "name": "python",
   "nbconvert_exporter": "python",
   "pygments_lexer": "ipython3",
   "version": "3.6.8"
  }
 },
 "nbformat": 4,
 "nbformat_minor": 2
}
