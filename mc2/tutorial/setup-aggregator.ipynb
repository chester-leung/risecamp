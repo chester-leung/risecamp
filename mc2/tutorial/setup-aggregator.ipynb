{
 "cells": [
  {
   "cell_type": "markdown",
   "metadata": {},
   "source": [
    "## Setup\n",
    "During the setup phase, the parties first form a federation."
   ]
  },
  {
   "cell_type": "markdown",
   "metadata": {},
   "source": [
    "### 1. Public Key Infrastructure (PKI)"
   ]
  },
  {
   "cell_type": "markdown",
   "metadata": {},
   "source": [
    "We have created a mock PKI service for the purpose of this tutorial. In this section of the tutorial, you will upload your public keys to the PKI service, and obtain the public key of the other members of the federation.\n",
    "\n",
    "To use our mock service, you can use the following API:\n",
    "```python\n",
    "class PKI:\n",
    "     # No input arguments; connects to the PKI service\n",
    "    def __init__(self):\n",
    "\n",
    "    # uploads the user's IP and public key to the PKI service; returns None\n",
    "    def upload(self, username, ip_address, public_key):\n",
    "\n",
    "    # Retrieves the IP and public key for user <username>\n",
    "    def lookup(self, username):\n",
    "\n",
    "    # Retrieves the public key for user <username> and saves it\n",
    "    def save_key(self, username):\n",
    "```"
   ]
  },
  {
   "cell_type": "markdown",
   "metadata": {},
   "source": [
    "**Exercise**: Upload your username (i.e., the email you used to log into the tutorial portal), IP address, and public key to the lookup service. Verify that your information has been uploaded using lookup()."
   ]
  },
  {
   "cell_type": "code",
   "execution_count": null,
   "metadata": {},
   "outputs": [],
   "source": [
    "from Utils import PKI\n",
    "from requests import get\n",
    "from os.path import expanduser\n",
    "\n",
    "# TODO: Add your username \n",
    "# username = \"\"\n",
    "\n",
    "# Get your public IP address\n",
    "IP = get('https://api.ipify.org').text\n",
    "\n",
    "# Get your public key\n",
    "pubkey = open(expanduser(\"~\") + '/.ssh/id_rsa.pub').read().strip()\n",
    "\n",
    "# TODO: Connect to the PKI service and upload your IP address and public key\n",
    "# ...\n",
    "\n",
    "# TODO: Verify that your information has been uploaded by using the lookup() API \n",
    "# ..."
   ]
  },
  {
   "cell_type": "markdown",
   "metadata": {},
   "source": [
    "### 2. Federation\n",
    "You will now use the Federation API to create and join a federation of participants. One participant will act as the centralized aggregator for the purposes of this tutorial. Before proceeding, confer with the other members of your federation and elect the aggregator.\n",
    "\n",
    "The federation API for the aggregator is as follows:\n",
    "```python\n",
    "class FederationAggregator:\n",
    "     # Initialize a Federation instance using your username\n",
    "    def __init__(self, username):\n",
    "\n",
    "    # Creates a federation with self.username as the aggregator; \n",
    "    # <members> is a list of usernames who may participate in the federation\n",
    "    def create_federation(self, members):\n",
    "\n",
    "    # Check to see if all the members of the federation have joined\n",
    "    def check_federation(self):\n",
    "```"
   ]
  },
  {
   "cell_type": "markdown",
   "metadata": {},
   "source": [
    "**Exercise**: Create a federation with your teammates as the members."
   ]
  },
  {
   "cell_type": "code",
   "execution_count": null,
   "metadata": {},
   "outputs": [],
   "source": [
    "from Utils import FederationAggregator\n",
    "\n",
    "# Initialize a federation\n",
    "fed = FederationAggregator(username)\n",
    "\n",
    "# TODO: Add the usernames of the federation members to the list\n",
    "# members = [\"\"]\n",
    "\n",
    "# TODO: Create a federation \n",
    "# ..."
   ]
  },
  {
   "cell_type": "markdown",
   "metadata": {},
   "source": [
    "Notify your federation members after creating the federation. Wait for them to join the federation. After everyone has done so, verify that everyone has officially joined the federation."
   ]
  },
  {
   "cell_type": "code",
   "execution_count": null,
   "metadata": {},
   "outputs": [],
   "source": [
    "# TODO\n",
    "# ..."
   ]
  },
  {
   "cell_type": "markdown",
   "metadata": {},
   "source": [
    "Once everyone has successfully joined your federation and the federation has been verified, authorize your fellow federation members to communicate with you by saving the public keys of all federation members using the PKI API."
   ]
  },
  {
   "cell_type": "code",
   "execution_count": null,
   "metadata": {},
   "outputs": [],
   "source": [
    "# TODO: Add the usernames of all members of your federation to the members list\n",
    "# members = [\"\"]\n",
    "\n",
    "# TODO: Save the keys of all users in the <members> list\n",
    "# ..."
   ]
  },
  {
   "cell_type": "markdown",
   "metadata": {},
   "source": [
    "Once you've setup your federation, go on to [Exercise 1](./exercise1-aggregator.ipynb)."
   ]
  }
 ],
 "metadata": {
  "kernelspec": {
   "display_name": "Python 3",
   "language": "python",
   "name": "python3"
  },
  "language_info": {
   "codemirror_mode": {
    "name": "ipython",
    "version": 3
   },
   "file_extension": ".py",
   "mimetype": "text/x-python",
   "name": "python",
   "nbconvert_exporter": "python",
   "pygments_lexer": "ipython3",
   "version": "3.6.8"
  }
 },
 "nbformat": 4,
 "nbformat_minor": 2
}
